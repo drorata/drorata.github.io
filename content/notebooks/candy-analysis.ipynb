{
 "cells": [
  {
   "cell_type": "code",
   "execution_count": null,
   "metadata": {},
   "outputs": [],
   "source": [
    "from functools import reduce\n",
    "\n",
    "import pandas as pd\n",
    "import plotly.graph_objects as go\n",
    "from plotly import express as px\n",
    "from plotly.colors import n_colors\n",
    "from plotly.subplots import make_subplots\n",
    "\n",
    "pd.options.plotting.backend = \"plotly\""
   ]
  },
  {
   "cell_type": "markdown",
   "metadata": {},
   "source": [
    "This is my attempt on analyzing the data collected by [fivethirtyeight](https://fivethirtyeight.com/) when trying to determine which candy is the best.\n",
    "You can read more about the data set, how it was collected etc. [here](https://fivethirtyeight.com/videos/the-ultimate-halloween-candy-power-ranking/).\n",
    "The data itself is available [here](https://github.com/fivethirtyeight/data/blob/master/candy-power-ranking/candy-data.csv) (don't forget to have a look in the [README](https://github.com/fivethirtyeight/data/blob/master/candy-power-ranking/README.md))."
   ]
  },
  {
   "cell_type": "code",
   "execution_count": null,
   "metadata": {},
   "outputs": [],
   "source": [
    "# Data taken from a fork of the original data source.\n",
    "df = pd.read_csv(\n",
    "    \"https://raw.githubusercontent.com/drorata/fivethirtyeight-data/b22a21b264162ad0b5d8954b02e0bca5ab782113/candy-power-ranking/candy-data.csv\"\n",
    ")\n",
    "df"
   ]
  },
  {
   "cell_type": "code",
   "execution_count": null,
   "metadata": {},
   "outputs": [],
   "source": [
    "print(f\"Are there missing values? {df.isna().any().any()}\")"
   ]
  },
  {
   "cell_type": "code",
   "execution_count": null,
   "metadata": {},
   "outputs": [],
   "source": [
    "# For easier visualization (later), discretizing the sugarpercent based on its median.\n",
    "# Another threshold can be decided (e.g if considering health aspect)\n",
    "df[\"high_sugar\"] = df.sugarpercent.apply(\n",
    "    lambda x: 1 if x > df.sugarpercent.median() else 0\n",
    ")"
   ]
  },
  {
   "cell_type": "markdown",
   "metadata": {},
   "source": [
    "## Analysis focus\n",
    "\n",
    "The focus of the analysis is to determine what constitutes a winning candy **in terms of winning percentage**.\n",
    "The analysis is made under the following assumption:\n",
    "\n",
    "**Assumption:**\n",
    "The price of the products is not impacting their winning chances.\n",
    "\n",
    "My understanding is that the survey was conducted among people who played the role of the recipients of the candies (during Halloween). \n",
    "Therefore, their decision when asked about two candies is independent of the price.\n",
    "Analyzing the price of the items will be discussed after identifying the winning composition of traits.\n",
    "\n",
    "**Question:**\n",
    "\n",
    "Assume that you want to decide which candy to include in your shop offering.\n",
    "There are at least two approaches:\n",
    "1. Pick one or more _existing_ candies and add them to the shop.\n",
    "2. Develop a new candy that will be used.\n",
    "\n",
    "This is an involved *business* decision that require data while being discussed.\n",
    "\n",
    "## Candies Traits\n",
    "\n",
    "There are 10 different binary traits of each candy.\n",
    "First, a visualization that look into the median of the win percentage depending on the existence of a trait.\n",
    "On the right handside, the presence of the trait (as percentage) is visualized to give an indication how trustworthy the change in the win percentage is."
   ]
  },
  {
   "cell_type": "markdown",
   "metadata": {},
   "source": [
    "## Candies Traits\n",
    "\n",
    "There are 10 different binary traits of each candy.\n",
    "First, a visualization that look into the median of the win percentage depending on the existence of a trait.\n",
    "\n",
    "On the right handside, the presence of the trait (as percentage) is visualized to give an indication how trustworthy the change in the win percentage is."
   ]
  },
  {
   "cell_type": "code",
   "execution_count": null,
   "metadata": {},
   "outputs": [],
   "source": [
    "traits = [\n",
    "    # Picking the manually the traits that are taken into account.\n",
    "    \"chocolate\",\n",
    "    \"fruity\",\n",
    "    \"caramel\",\n",
    "    \"peanutyalmondy\",\n",
    "    \"nougat\",\n",
    "    \"crispedricewafer\",\n",
    "    \"hard\",\n",
    "    \"bar\",\n",
    "    \"pluribus\",\n",
    "    \"high_sugar\",\n",
    "]\n",
    "\n",
    "fig = make_subplots(\n",
    "    rows=len(traits),\n",
    "    cols=2,\n",
    "    column_widths=[4, 2],\n",
    "    specs=10\n",
    "    * [[{\"type\": \"xy\"}, {\"type\": \"pie\"}]],  # Supporting mixing of different viz types\n",
    "    subplot_titles=reduce(\n",
    "        # The title of each plot is defined here.\n",
    "        # Needed to flatten a nested list to a single one\n",
    "        lambda x, y: x + y,\n",
    "        [(f\"Win % vs. {trait}\", f\"Presence of {trait}\") for trait in traits],\n",
    "    ),\n",
    ")\n",
    "\n",
    "fill_colors = {0: \"rgba(25, 40, 150, 0.5)\", 1: \"rgba(150, 40, 25, 0.5)\"}\n",
    "\n",
    "for i, trait in enumerate(traits):\n",
    "    for is_trait in [0, 1]:\n",
    "        fig.add_trace(\n",
    "            go.Box(\n",
    "                x=df[df[trait] == is_trait][trait],\n",
    "                y=df[df[trait] == is_trait][\"winpercent\"],\n",
    "                boxmean=\"sd\",\n",
    "                showlegend=False,\n",
    "                fillcolor=fill_colors[is_trait],\n",
    "                line={\"color\": fill_colors[is_trait]},\n",
    "                # Some related SO questions:\n",
    "                # - https://stackoverflow.com/q/72110370/671013\n",
    "                # - https://stackoverflow.com/q/72110582/671013\n",
    "                # - https://stackoverflow.com/q/72801725/671013\n",
    "            ),\n",
    "            row=i + 1,\n",
    "            col=1,\n",
    "        )\n",
    "    _vcount = df[trait].value_counts(normalize=False)\n",
    "    fig.add_trace(\n",
    "        px.pie(df, values=_vcount.values, names=_vcount.index).data[0], row=i + 1, col=2\n",
    "    )\n",
    "fig.update_layout(height=2000, width=1200, title_text=\"Impact on Win chances\")\n",
    "fig"
   ]
  },
  {
   "cell_type": "markdown",
   "metadata": {},
   "source": [
    "For easier reading of the numbers, preparing a dataframe holding the important values."
   ]
  },
  {
   "cell_type": "code",
   "execution_count": null,
   "metadata": {},
   "outputs": [],
   "source": [
    "median_impact_df = pd.DataFrame(\n",
    "    [\n",
    "        [\n",
    "            trait,\n",
    "            df[df[trait] == 0][\"winpercent\"].median(),\n",
    "            df[df[trait] == 1][\"winpercent\"].median(),\n",
    "            df[df[trait] == 0].shape[0],\n",
    "            df[df[trait] == 1].shape[0],\n",
    "        ]\n",
    "        for trait in traits\n",
    "    ],\n",
    "    columns=[\"Trait\", \"Median (without)\", \"Median (with)\", \"c_without\", \"c_with\",],\n",
    ")\n",
    "\n",
    "# Compute the change of the median of the win percent when comparing with and without a trait\n",
    "median_impact_df[\"Median change (pct)\"] = 100 * (\n",
    "    median_impact_df[\"Median (with)\"] / median_impact_df[\"Median (without)\"] - 1\n",
    ")\n",
    "\n",
    "# Computing the presence (pct) of the trait)\n",
    "median_impact_df[\"Presence (pct)\"] = 100 * median_impact_df[\"c_with\"] / df.shape[0]\n",
    "median_impact_df.drop([\"c_without\", \"c_with\"], axis=1, inplace=True)\n",
    "\n",
    "median_impact_df.sort_values([\"Presence (pct)\"], ascending=False)"
   ]
  },
  {
   "cell_type": "markdown",
   "metadata": {},
   "source": [
    "**Reading this table:**\n",
    "> The higher the presence of a trait is, the change in the median of the win percentage should be taken more seriously\n",
    "\n",
    "**Recommendations:**\n",
    "When coming to pick a candy (one or more) following evidences should guide:\n",
    "\n",
    "- No pluribus - the win percentage drops by 12%.\n",
    "- Candy should have high sugar content (a 19% increase in the win percentage)\n",
    "- Candy should *not* be fruity (a loss of almost 24%)\n",
    "- Candy should contain chocolate (46% increase)\n",
    "- A bar candy is favorable (39% increase)\n",
    "- Soft candies wins more (-25% for the hard ones)\n",
    "\n",
    "At this stage, I would be careful with the other traits as their presences drops (below 17% of the candies).\n",
    "\n",
    "Next, we can look into the correlation between the different traits:"
   ]
  },
  {
   "cell_type": "code",
   "execution_count": null,
   "metadata": {},
   "outputs": [],
   "source": [
    "corr_df = df.drop(\n",
    "    [\"competitorname\", \"pricepercent\", \"winpercent\", \"sugarpercent\"], axis=1\n",
    ").corr()\n",
    "fig = px.imshow(corr_df, color_continuous_scale=\"RdBu\")\n",
    "fig.show()"
   ]
  },
  {
   "cell_type": "markdown",
   "metadata": {},
   "source": [
    "From the above matrix, one can conclude that a *bar* snack is a good candidate as it is meeting many of the guidings mentioned above.\n",
    "\n",
    "Here is a good candidate (my favorite childhood's candy):\n",
    "\n",
    "<img src=https://upload.wikimedia.org/wikipedia/he/9/90/%D7%A4%D7%A1%D7%A7_%D7%96%D7%9E%D7%9F.jpg></img>\n",
    "\n",
    "Although these are newer version that weren't available back in the days 😇."
   ]
  },
  {
   "cell_type": "markdown",
   "metadata": {},
   "source": [
    "## The Price\n",
    "\n",
    "Finally, a few points regarding the price of the products.\n",
    "When looking at the overall price distribution there is no clear story:"
   ]
  },
  {
   "cell_type": "code",
   "execution_count": null,
   "metadata": {},
   "outputs": [],
   "source": [
    "# Compare to the behavior of the price when not drilled down by traits\n",
    "px.violin(df, x=\"pricepercent\")"
   ]
  },
  {
   "cell_type": "markdown",
   "metadata": {},
   "source": [
    "However, by looking at the prices per trait, we see that different traits correspond to different price ranges.\n",
    "This view can help when discussing the business plan and taking into account the prices of the items."
   ]
  },
  {
   "cell_type": "code",
   "execution_count": null,
   "metadata": {},
   "outputs": [],
   "source": [
    "# Help order the cureves in an increasing order.\n",
    "traits_ordered_by_median_of_price = (\n",
    "    pd.DataFrame(\n",
    "        [[trait, df[df[trait] == 1][\"pricepercent\"].median()] for trait in traits],\n",
    "        columns=[\"trait\", \"median\"],\n",
    "    )\n",
    "    .sort_values(\"median\")[\"trait\"]\n",
    "    .values\n",
    ")\n",
    "\n",
    "colors = n_colors(\"rgb(5, 200, 200)\", \"rgb(200, 10, 10)\", len(traits), colortype=\"rgb\")\n",
    "\n",
    "fig = go.Figure()\n",
    "for trait, color in zip(traits_ordered_by_median_of_price, colors):\n",
    "    fig.add_trace(\n",
    "        go.Violin(x=df[df[trait] == 1].pricepercent, line_color=color, name=trait)\n",
    "    )\n",
    "    fig.update_annotations()\n",
    "\n",
    "fig.update_traces(\n",
    "    orientation=\"h\", side=\"positive\", width=3, points=\"suspectedoutliers\",\n",
    ")\n",
    "fig.update_layout(xaxis_showgrid=False, xaxis_zeroline=False, height=800)\n",
    "fig.show()"
   ]
  },
  {
   "cell_type": "markdown",
   "metadata": {},
   "source": [
    "### Price vs. winning\n",
    "\n",
    "Note that traits linked to higher win percentage are also more expansive."
   ]
  },
  {
   "cell_type": "code",
   "execution_count": null,
   "metadata": {},
   "outputs": [],
   "source": [
    "px.scatter(\n",
    "    df,\n",
    "    x=\"pricepercent\",\n",
    "    y=\"winpercent\",\n",
    "    trendline=\"ols\",\n",
    "    trendline_color_override=\"gray\",\n",
    ")"
   ]
  },
  {
   "cell_type": "markdown",
   "metadata": {},
   "source": [
    "The figure above suggests that there is a positive correlation between the price of the item and its win percent.\n",
    "From a business stand point, there are at least two possible tracks:\n",
    "- Favor \"quality\"; focus on more expansive candies that aim at higher customer satisfaction. The potential tradeoff in this case can be a reduced business volume.\n",
    "- Favor \"volume\"; aim at \"low\" end products that gain less winning percentage, but are cheaper and thus yield higher volumes.\n",
    "\n",
    "Deciding which track to take is kept out of scope for this analysis.\n",
    "\n",
    "# The environment\n",
    "\n",
    "```\n",
    "ipykernel\n",
    "pandas==1.4.2\n",
    "plotly==5.7.0\n",
    "ipywidgets==7.7.0\n",
    "statsmodels==0.13.2\n",
    "```"
   ]
  }
 ],
 "metadata": {
  "interpreter": {
   "hash": "cc328c15801f17d7b66391f735569686644e3c2777afd560debff47ec73948ff"
  },
  "kernelspec": {
   "display_name": "Python 3.9.12 ('zooplus-2022')",
   "language": "python",
   "name": "python3"
  },
  "language_info": {
   "codemirror_mode": {
    "name": "ipython",
    "version": 3
   },
   "file_extension": ".py",
   "mimetype": "text/x-python",
   "name": "python",
   "nbconvert_exporter": "python",
   "pygments_lexer": "ipython3",
   "version": "3.9.12"
  },
  "orig_nbformat": 4
 },
 "nbformat": 4,
 "nbformat_minor": 2
}
