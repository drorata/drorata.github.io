{
 "cells": [
  {
   "cell_type": "code",
   "execution_count": 1,
   "metadata": {},
   "outputs": [],
   "source": [
    "import pandas as pd\n",
    "import numpy as np\n",
    "from scipy import stats\n",
    "from statsmodels.stats import proportion\n",
    "\n",
    "from ipywidgets import interact, interactive, fixed, interact_manual\n",
    "import ipywidgets as widgets\n",
    "\n",
    "%matplotlib inline\n",
    "import seaborn as sns\n",
    "import matplotlib.pyplot as plt\n",
    "plt.style.use('ggplot')"
   ]
  },
  {
   "cell_type": "markdown",
   "metadata": {},
   "source": [
    "## Preface\n",
    "\n",
    "The motivation for this tutorial is to better understand the methods to assess the results of A/B(/C...) tests.\n",
    "There are so many common pitfalls when it comes to A/B tests; make sure you avoid them!\n",
    "For example, [this check list](https://blog.hubspot.com/marketing/a-b-test-checklist) might be a good reference.\n",
    "\n",
    "A common and repeating question is how to check the significance of the results of an A/B test.\n",
    "[Matt Brems](https://stats.stackexchange.com/a/178860/54320) provided a very nice summary.\n",
    "I wanted to compare two of the tests suggested:\n",
    "\n",
    "- [$z$-test](https://en.wikipedia.org/wiki/Z-test)\n",
    "- [$\\chi^2$-test](https://en.wikipedia.org/wiki/Chi-squared_test)\n",
    "\n",
    "\n",
    "### The plan\n",
    "\n",
    "Let us define $N$ to be a set of $u$ integers and $\\Delta$ to be a set of $v$ real numbers.\n",
    "For each $n \\in N$ and $\\delta \\in \\Delta$ we generate a synthetic results of an A/B test.\n",
    "In particular the control and variant groups would have $\\sim n$ observations.\n",
    "The reason is that in real results of A/B tests, the groups sizes are normally not identical; they are close but not equal.\n",
    "Furthermore, the control set would have a fixed $\\mathrm{CTR}$ (click through rate) and the variant will have conversion rate of $\\mathrm{CTR} + \\delta$.\n",
    "\n",
    "As the null hypothesis we take that the CTR of the control and variant groups is the same, independently of the treatment.\n",
    "Thus a small $p$-value should suggest to reject the null hypothesis.\n",
    "For each synthetic result we will compute the $p$-value using a $z$-test and a $\\chi^2$-test.\n",
    "In general, we expect that the smaller $n$ is and the larger $\\delta$, the resulting $p$-value would be larger."
   ]
  },
  {
   "cell_type": "markdown",
   "metadata": {},
   "source": [
    "## Generate data\n",
    "\n",
    "### Groups' sizes\n",
    "\n",
    "In reality, even though we assume the users are split randomly and evenly, the final groups' sizes are not identical.\n",
    "Therefore, we randomize the group size:"
   ]
  },
  {
   "cell_type": "code",
   "execution_count": 2,
   "metadata": {},
   "outputs": [],
   "source": [
    "def rand_group_size(N, tol=0.05):\n",
    "    return N + np.random.randint(\n",
    "        min(-tol * N, -1), \n",
    "        max(tol * N, 1) + 1)"
   ]
  },
  {
   "cell_type": "markdown",
   "metadata": {},
   "source": [
    "### Event's value\n",
    "\n",
    "For each successful event we assign a value.\n",
    "To that end we use a truncated uniform distribution providing the `low` and `up` values, together with the mean (`mu`) and standard deviation (`sigma`)."
   ]
  },
  {
   "cell_type": "code",
   "execution_count": 3,
   "metadata": {},
   "outputs": [],
   "source": [
    "def rand_values(low, up, mu, sigma, N):\n",
    "    return stats.truncnorm(\n",
    "        (low - mu) / sigma,\n",
    "        (up  - mu) / sigma,\n",
    "        loc=mu, scale=sigma).rvs(N)"
   ]
  },
  {
   "cell_type": "markdown",
   "metadata": {},
   "source": [
    "### Generating the data for a group\n",
    "\n",
    "When generating an observation, the following features are randomized:\n",
    "\n",
    "* The group size; controlled by `N` (~size) and `N_tol`. See `rand_group_size`\n",
    "* Name of the group. Normally `control` or `var`. Configured by `treat`.\n",
    "* Randomly assign `1` is the event was converted and `0` otherwise. The randomness is controlled by the weight`ctr`\n",
    "* In case of conversion what was the value; controlled by: `min_val`, `max_val`, `mean_val` and `std_val`\n",
    "* What day of the test is it; controlled by number of `days` and the distribution `days_dist`\n",
    "* `seed` can help you reproduce the results."
   ]
  },
  {
   "cell_type": "code",
   "execution_count": 4,
   "metadata": {},
   "outputs": [],
   "source": [
    "def generate_group_observations(N=1000, N_tol=0.05,\n",
    "                                treat='control',\n",
    "                                ctr=0.2,\n",
    "                                min_val=None, max_val=None,\n",
    "                                mean_val=None, std_val=None,\n",
    "                                days=7, days_dist=[1/7] * 7,\n",
    "                                verbose=True,\n",
    "                                seed=42\n",
    "                               ):\n",
    "    if verbose:\n",
    "        print('Generating ~{N} samples with tolerance {tol}'.format(N=N, tol=N_tol))\n",
    "        print('CTR: {ctr}'.format(ctr=ctr))\n",
    "        print('Min value: {min_val} / Max value: {max_val}'.format(min_val=min_val,\n",
    "                                                                   max_val=max_val))\n",
    "        print('Value mean: {mean_val} / Value STD: {std_val}'.format(mean_val=mean_val,\n",
    "                                                                     std_val=std_val))\n",
    "        print('Generating observation over {days} days with {dist} as the distribution'.format(\n",
    "            days=days, dist=days_dist\n",
    "        ))\n",
    "    if seed is not None:\n",
    "        np.random.seed(seed)\n",
    "    N = rand_group_size(N=N, tol=N_tol)\n",
    "    converts = np.random.choice([0, 1], size=N, p=[1 - ctr, ctr])\n",
    "    values = np.multiply(rand_values(min_val, max_val, mean_val, std_val, N), converts)\n",
    "    day = np.random.choice(np.arange(0, days), p=days_dist, size=N)\n",
    "    return pd.DataFrame(\n",
    "        {\n",
    "            \"Treat\": [treat] * N,\n",
    "            \"Day\": day,\n",
    "            \"Converted\": converts,\n",
    "            \"Value\": values\n",
    "        }\n",
    "    )"
   ]
  },
  {
   "cell_type": "markdown",
   "metadata": {},
   "source": [
    "Here is an example of ~10 observation (for a single group) spread along two days"
   ]
  },
  {
   "cell_type": "code",
   "execution_count": 5,
   "metadata": {},
   "outputs": [
    {
     "name": "stdout",
     "output_type": "stream",
     "text": [
      "Generating ~10 samples with tolerance 0.05\n",
      "CTR: 0.2\n",
      "Min value: 30 / Max value: 100\n",
      "Value mean: 60 / Value STD: 20\n",
      "Generating observation over 2 days with [0.4, 0.6] as the distribution\n"
     ]
    },
    {
     "data": {
      "text/html": [
       "<div>\n",
       "<style scoped>\n",
       "    .dataframe tbody tr th:only-of-type {\n",
       "        vertical-align: middle;\n",
       "    }\n",
       "\n",
       "    .dataframe tbody tr th {\n",
       "        vertical-align: top;\n",
       "    }\n",
       "\n",
       "    .dataframe thead th {\n",
       "        text-align: right;\n",
       "    }\n",
       "</style>\n",
       "<table border=\"1\" class=\"dataframe\">\n",
       "  <thead>\n",
       "    <tr style=\"text-align: right;\">\n",
       "      <th></th>\n",
       "      <th>Converted</th>\n",
       "      <th>Day</th>\n",
       "      <th>Treat</th>\n",
       "      <th>Value</th>\n",
       "    </tr>\n",
       "  </thead>\n",
       "  <tbody>\n",
       "    <tr>\n",
       "      <th>0</th>\n",
       "      <td>1</td>\n",
       "      <td>1</td>\n",
       "      <td>control</td>\n",
       "      <td>58.682799</td>\n",
       "    </tr>\n",
       "    <tr>\n",
       "      <th>1</th>\n",
       "      <td>0</td>\n",
       "      <td>1</td>\n",
       "      <td>control</td>\n",
       "      <td>0.000000</td>\n",
       "    </tr>\n",
       "    <tr>\n",
       "      <th>2</th>\n",
       "      <td>1</td>\n",
       "      <td>1</td>\n",
       "      <td>control</td>\n",
       "      <td>83.425302</td>\n",
       "    </tr>\n",
       "    <tr>\n",
       "      <th>3</th>\n",
       "      <td>0</td>\n",
       "      <td>0</td>\n",
       "      <td>control</td>\n",
       "      <td>0.000000</td>\n",
       "    </tr>\n",
       "    <tr>\n",
       "      <th>4</th>\n",
       "      <td>1</td>\n",
       "      <td>0</td>\n",
       "      <td>control</td>\n",
       "      <td>37.115954</td>\n",
       "    </tr>\n",
       "    <tr>\n",
       "      <th>5</th>\n",
       "      <td>1</td>\n",
       "      <td>0</td>\n",
       "      <td>control</td>\n",
       "      <td>85.991153</td>\n",
       "    </tr>\n",
       "    <tr>\n",
       "      <th>6</th>\n",
       "      <td>0</td>\n",
       "      <td>1</td>\n",
       "      <td>control</td>\n",
       "      <td>0.000000</td>\n",
       "    </tr>\n",
       "    <tr>\n",
       "      <th>7</th>\n",
       "      <td>0</td>\n",
       "      <td>1</td>\n",
       "      <td>control</td>\n",
       "      <td>0.000000</td>\n",
       "    </tr>\n",
       "    <tr>\n",
       "      <th>8</th>\n",
       "      <td>1</td>\n",
       "      <td>1</td>\n",
       "      <td>control</td>\n",
       "      <td>53.225721</td>\n",
       "    </tr>\n",
       "  </tbody>\n",
       "</table>\n",
       "</div>"
      ],
      "text/plain": [
       "   Converted  Day    Treat      Value\n",
       "0          1    1  control  58.682799\n",
       "1          0    1  control   0.000000\n",
       "2          1    1  control  83.425302\n",
       "3          0    0  control   0.000000\n",
       "4          1    0  control  37.115954\n",
       "5          1    0  control  85.991153\n",
       "6          0    1  control   0.000000\n",
       "7          0    1  control   0.000000\n",
       "8          1    1  control  53.225721"
      ]
     },
     "execution_count": 5,
     "metadata": {},
     "output_type": "execute_result"
    }
   ],
   "source": [
    "generate_group_observations(\n",
    "    N=10, days=2, days_dist=[0.4, 0.6],\n",
    "    min_val=30, max_val=100, mean_val=60, std_val=20, seed=314)"
   ]
  },
  {
   "cell_type": "markdown",
   "metadata": {},
   "source": [
    "We are now ready to generate a synthetic results set of an A/B test, using the following function."
   ]
  },
  {
   "cell_type": "code",
   "execution_count": 6,
   "metadata": {},
   "outputs": [],
   "source": [
    "def generate_observations(N=1000,\n",
    "                          control_ctr=0.2,\n",
    "                          control_min_value=50,\n",
    "                          control_max_value=150,\n",
    "                          control_mean_sale=80,\n",
    "                          control_std_sale=20,\n",
    "                          var_ctr=0.15,\n",
    "                          var_min_value=50,\n",
    "                          var_max_value=150,\n",
    "                          var_mean_sale=90,\n",
    "                          var_std_sale=30,\n",
    "                          days=7, days_dist=[1/7] * 7,\n",
    "                          seed=42,\n",
    "                          verbose=True\n",
    "                         ):\n",
    "    np.random.seed(seed)\n",
    "    control = generate_group_observations(N=N, days=days, days_dist=days_dist, \n",
    "                                          ctr=control_ctr, min_val=control_min_value, max_val=control_max_value, \n",
    "                                          mean_val=control_mean_sale, std_val=control_std_sale,\n",
    "                                          treat='control',\n",
    "                                          seed=None, verbose=verbose\n",
    "                                         )\n",
    "    var = generate_group_observations(N=N, days=days, days_dist=days_dist, \n",
    "                                      ctr=var_ctr, min_val=var_min_value, max_val=var_max_value, \n",
    "                                      mean_val=var_mean_sale, std_val=var_std_sale,\n",
    "                                      treat='var',\n",
    "                                      seed=None, verbose=verbose\n",
    "                                     )\n",
    "\n",
    "    results = pd.concat([control, var]).reset_index(drop=True)\n",
    "    return results"
   ]
  },
  {
   "cell_type": "markdown",
   "metadata": {},
   "source": [
    "Here's a ~10 days X 2 (for *control* and *variation* groups) results set"
   ]
  },
  {
   "cell_type": "code",
   "execution_count": 7,
   "metadata": {},
   "outputs": [
    {
     "data": {
      "text/html": [
       "<div>\n",
       "<style scoped>\n",
       "    .dataframe tbody tr th:only-of-type {\n",
       "        vertical-align: middle;\n",
       "    }\n",
       "\n",
       "    .dataframe tbody tr th {\n",
       "        vertical-align: top;\n",
       "    }\n",
       "\n",
       "    .dataframe thead th {\n",
       "        text-align: right;\n",
       "    }\n",
       "</style>\n",
       "<table border=\"1\" class=\"dataframe\">\n",
       "  <thead>\n",
       "    <tr style=\"text-align: right;\">\n",
       "      <th></th>\n",
       "      <th>Converted</th>\n",
       "      <th>Day</th>\n",
       "      <th>Treat</th>\n",
       "      <th>Value</th>\n",
       "    </tr>\n",
       "  </thead>\n",
       "  <tbody>\n",
       "    <tr>\n",
       "      <th>0</th>\n",
       "      <td>0</td>\n",
       "      <td>1</td>\n",
       "      <td>control</td>\n",
       "      <td>0.000000</td>\n",
       "    </tr>\n",
       "    <tr>\n",
       "      <th>1</th>\n",
       "      <td>1</td>\n",
       "      <td>6</td>\n",
       "      <td>control</td>\n",
       "      <td>90.575667</td>\n",
       "    </tr>\n",
       "    <tr>\n",
       "      <th>2</th>\n",
       "      <td>0</td>\n",
       "      <td>2</td>\n",
       "      <td>control</td>\n",
       "      <td>0.000000</td>\n",
       "    </tr>\n",
       "    <tr>\n",
       "      <th>3</th>\n",
       "      <td>0</td>\n",
       "      <td>0</td>\n",
       "      <td>control</td>\n",
       "      <td>0.000000</td>\n",
       "    </tr>\n",
       "    <tr>\n",
       "      <th>4</th>\n",
       "      <td>0</td>\n",
       "      <td>3</td>\n",
       "      <td>control</td>\n",
       "      <td>0.000000</td>\n",
       "    </tr>\n",
       "    <tr>\n",
       "      <th>5</th>\n",
       "      <td>0</td>\n",
       "      <td>6</td>\n",
       "      <td>control</td>\n",
       "      <td>0.000000</td>\n",
       "    </tr>\n",
       "    <tr>\n",
       "      <th>6</th>\n",
       "      <td>0</td>\n",
       "      <td>3</td>\n",
       "      <td>control</td>\n",
       "      <td>0.000000</td>\n",
       "    </tr>\n",
       "    <tr>\n",
       "      <th>7</th>\n",
       "      <td>1</td>\n",
       "      <td>5</td>\n",
       "      <td>control</td>\n",
       "      <td>88.962021</td>\n",
       "    </tr>\n",
       "    <tr>\n",
       "      <th>8</th>\n",
       "      <td>0</td>\n",
       "      <td>2</td>\n",
       "      <td>control</td>\n",
       "      <td>0.000000</td>\n",
       "    </tr>\n",
       "    <tr>\n",
       "      <th>9</th>\n",
       "      <td>0</td>\n",
       "      <td>3</td>\n",
       "      <td>control</td>\n",
       "      <td>0.000000</td>\n",
       "    </tr>\n",
       "    <tr>\n",
       "      <th>10</th>\n",
       "      <td>0</td>\n",
       "      <td>6</td>\n",
       "      <td>var</td>\n",
       "      <td>0.000000</td>\n",
       "    </tr>\n",
       "    <tr>\n",
       "      <th>11</th>\n",
       "      <td>0</td>\n",
       "      <td>6</td>\n",
       "      <td>var</td>\n",
       "      <td>0.000000</td>\n",
       "    </tr>\n",
       "    <tr>\n",
       "      <th>12</th>\n",
       "      <td>1</td>\n",
       "      <td>6</td>\n",
       "      <td>var</td>\n",
       "      <td>61.830611</td>\n",
       "    </tr>\n",
       "    <tr>\n",
       "      <th>13</th>\n",
       "      <td>0</td>\n",
       "      <td>2</td>\n",
       "      <td>var</td>\n",
       "      <td>0.000000</td>\n",
       "    </tr>\n",
       "    <tr>\n",
       "      <th>14</th>\n",
       "      <td>0</td>\n",
       "      <td>1</td>\n",
       "      <td>var</td>\n",
       "      <td>0.000000</td>\n",
       "    </tr>\n",
       "    <tr>\n",
       "      <th>15</th>\n",
       "      <td>0</td>\n",
       "      <td>6</td>\n",
       "      <td>var</td>\n",
       "      <td>0.000000</td>\n",
       "    </tr>\n",
       "    <tr>\n",
       "      <th>16</th>\n",
       "      <td>0</td>\n",
       "      <td>6</td>\n",
       "      <td>var</td>\n",
       "      <td>0.000000</td>\n",
       "    </tr>\n",
       "    <tr>\n",
       "      <th>17</th>\n",
       "      <td>1</td>\n",
       "      <td>4</td>\n",
       "      <td>var</td>\n",
       "      <td>74.639051</td>\n",
       "    </tr>\n",
       "    <tr>\n",
       "      <th>18</th>\n",
       "      <td>0</td>\n",
       "      <td>0</td>\n",
       "      <td>var</td>\n",
       "      <td>0.000000</td>\n",
       "    </tr>\n",
       "  </tbody>\n",
       "</table>\n",
       "</div>"
      ],
      "text/plain": [
       "    Converted  Day    Treat      Value\n",
       "0           0    1  control   0.000000\n",
       "1           1    6  control  90.575667\n",
       "2           0    2  control   0.000000\n",
       "3           0    0  control   0.000000\n",
       "4           0    3  control   0.000000\n",
       "5           0    6  control   0.000000\n",
       "6           0    3  control   0.000000\n",
       "7           1    5  control  88.962021\n",
       "8           0    2  control   0.000000\n",
       "9           0    3  control   0.000000\n",
       "10          0    6      var   0.000000\n",
       "11          0    6      var   0.000000\n",
       "12          1    6      var  61.830611\n",
       "13          0    2      var   0.000000\n",
       "14          0    1      var   0.000000\n",
       "15          0    6      var   0.000000\n",
       "16          0    6      var   0.000000\n",
       "17          1    4      var  74.639051\n",
       "18          0    0      var   0.000000"
      ]
     },
     "execution_count": 7,
     "metadata": {},
     "output_type": "execute_result"
    }
   ],
   "source": [
    "generate_observations(N=10, seed=262, verbose=False)"
   ]
  },
  {
   "cell_type": "markdown",
   "metadata": {},
   "source": [
    "## Conversion rate\n",
    "\n",
    "At this point we want to aggregate the results and compute the metric (a.k.a. proportion) we are after.\n",
    "In this example we consider the conversion rate."
   ]
  },
  {
   "cell_type": "code",
   "execution_count": 8,
   "metadata": {},
   "outputs": [],
   "source": [
    "def agg_conversion(results):\n",
    "    conversions = results.groupby('Treat')['Converted'].agg(['count', 'sum'])\n",
    "    conversions.rename(columns={'count': 'Visitors', 'sum': 'Converted'}, inplace=True)\n",
    "    conversions['Not_converted'] = conversions.Visitors - conversions.Converted\n",
    "    conversions['CR'] = conversions.Converted / conversions.Visitors\n",
    "    return conversions"
   ]
  },
  {
   "cell_type": "markdown",
   "metadata": {},
   "source": [
    "For the conversion rate we aggregate the raw events into a *contingency* matrix.\n",
    "Here is the resulting aggregation of the data generated previously."
   ]
  },
  {
   "cell_type": "code",
   "execution_count": 9,
   "metadata": {},
   "outputs": [
    {
     "data": {
      "text/html": [
       "<div>\n",
       "<style scoped>\n",
       "    .dataframe tbody tr th:only-of-type {\n",
       "        vertical-align: middle;\n",
       "    }\n",
       "\n",
       "    .dataframe tbody tr th {\n",
       "        vertical-align: top;\n",
       "    }\n",
       "\n",
       "    .dataframe thead th {\n",
       "        text-align: right;\n",
       "    }\n",
       "</style>\n",
       "<table border=\"1\" class=\"dataframe\">\n",
       "  <thead>\n",
       "    <tr style=\"text-align: right;\">\n",
       "      <th></th>\n",
       "      <th>Visitors</th>\n",
       "      <th>Converted</th>\n",
       "      <th>Not_converted</th>\n",
       "      <th>CR</th>\n",
       "    </tr>\n",
       "    <tr>\n",
       "      <th>Treat</th>\n",
       "      <th></th>\n",
       "      <th></th>\n",
       "      <th></th>\n",
       "      <th></th>\n",
       "    </tr>\n",
       "  </thead>\n",
       "  <tbody>\n",
       "    <tr>\n",
       "      <th>control</th>\n",
       "      <td>10</td>\n",
       "      <td>2</td>\n",
       "      <td>8</td>\n",
       "      <td>0.200000</td>\n",
       "    </tr>\n",
       "    <tr>\n",
       "      <th>var</th>\n",
       "      <td>9</td>\n",
       "      <td>2</td>\n",
       "      <td>7</td>\n",
       "      <td>0.222222</td>\n",
       "    </tr>\n",
       "  </tbody>\n",
       "</table>\n",
       "</div>"
      ],
      "text/plain": [
       "         Visitors  Converted  Not_converted        CR\n",
       "Treat                                                \n",
       "control        10          2              8  0.200000\n",
       "var             9          2              7  0.222222"
      ]
     },
     "execution_count": 9,
     "metadata": {},
     "output_type": "execute_result"
    }
   ],
   "source": [
    "agg_conversion(generate_observations(N=10, seed=262, verbose=False))"
   ]
  },
  {
   "cell_type": "markdown",
   "metadata": {},
   "source": [
    "### Conversion rate and sample size\n",
    "\n",
    "In this example (you have to run the notebook interactively) you can witness how the smaller the sample size is the further off the conversion rate is from the one prescribed in the generation function.\n",
    "\n",
    "1. Fix the conversion rate for the control and variation groups\n",
    "2. Play around with $N$. Note that the larger $N$ is the aggregation of the results gets closers to the values set.\n",
    "\n",
    "For every value of $N$ we generate a synthetic data set and aggregate it to get the observed *conversion rate*.\n",
    "The synthetic "
   ]
  },
  {
   "cell_type": "code",
   "execution_count": 10,
   "metadata": {},
   "outputs": [
    {
     "data": {
      "application/vnd.jupyter.widget-view+json": {
       "model_id": "fb25d76fed4949658247726a8220da02",
       "version_major": 2,
       "version_minor": 0
      },
      "text/html": [
       "<p>Failed to display Jupyter Widget of type <code>interactive</code>.</p>\n",
       "<p>\n",
       "  If you're reading this message in the Jupyter Notebook or JupyterLab Notebook, it may mean\n",
       "  that the widgets JavaScript is still loading. If this message persists, it\n",
       "  likely means that the widgets JavaScript library is either not installed or\n",
       "  not enabled. See the <a href=\"https://ipywidgets.readthedocs.io/en/stable/user_install.html\">Jupyter\n",
       "  Widgets Documentation</a> for setup instructions.\n",
       "</p>\n",
       "<p>\n",
       "  If you're reading this message in another frontend (for example, a static\n",
       "  rendering on GitHub or <a href=\"https://nbviewer.jupyter.org/\">NBViewer</a>),\n",
       "  it may mean that your frontend doesn't currently support widgets.\n",
       "</p>\n"
      ],
      "text/plain": [
       "interactive(children=(IntSlider(value=1000, description='N', max=5000, min=10, step=100), FloatSlider(value=0.2, description='Control CR', max=1.0, step=0.05), FloatSlider(value=0.15, description='Variation CR', max=1.0, step=0.05), Output()), _dom_classes=('widget-interact',))"
      ]
     },
     "metadata": {},
     "output_type": "display_data"
    }
   ],
   "source": [
    "interact(\n",
    "    lambda N, control_ctr, var_ctr: print(\n",
    "        agg_conversion(\n",
    "            generate_observations(\n",
    "                seed=None, verbose=False, \n",
    "                N=N, \n",
    "                control_ctr=control_ctr,\n",
    "                var_ctr=var_ctr\n",
    "            ))['CR']\n",
    "        ), \n",
    "    control_ctr=widgets.FloatSlider(value=0.2, min=0, max=1, step=0.05, description='Control CR'),\n",
    "    var_ctr=widgets.FloatSlider(value=0.15, min=0, max=1, step=0.05, description='Variation CR'),\n",
    "    N=widgets.IntSlider(min=10,max=5000,step=100,value=1000)\n",
    ");"
   ]
  },
  {
   "cell_type": "markdown",
   "metadata": {},
   "source": [
    "## Experimenting with different statistical tests"
   ]
  },
  {
   "cell_type": "markdown",
   "metadata": {},
   "source": [
    "First, here is a simple utility to plot a heat map of the the resulting $p$-values."
   ]
  },
  {
   "cell_type": "code",
   "execution_count": 11,
   "metadata": {},
   "outputs": [],
   "source": [
    "def plot_experiment(df):\n",
    "    \"\"\"\n",
    "    Utility function to plot a heatmap of the resulting p-values\n",
    "    \"\"\"\n",
    "    plt.figure(figsize=(10,10))\n",
    "    ax = sns.heatmap(df, cmap=plt.cm.Blues, linecolor='gray',\n",
    "                     xticklabels=df.columns.values.round(2),\n",
    "                     linewidths=.02\n",
    "                    )\n",
    "    ax.set(xlabel='CR delta', ylabel='N')\n",
    "    ax.set_yticklabels(rotation=0, labels=Ns);"
   ]
  },
  {
   "cell_type": "markdown",
   "metadata": {},
   "source": [
    "As discussed in the outline, we generate results for various $n$'s and various CTRs of the variant group."
   ]
  },
  {
   "cell_type": "code",
   "execution_count": 12,
   "metadata": {},
   "outputs": [],
   "source": [
    "def generate_data(control_ctr, deltas, Ns, seeds_seed=None):\n",
    "    \"\"\"\n",
    "    Generate data for len(Ns)*len(deltas) experiment.\n",
    "    Each experiment has ~N observation in each group and\n",
    "    the CTR of the variation is control_ctr+delta\n",
    "    \"\"\"\n",
    "    if seeds_seed is not None:\n",
    "        np.random.seed(seeds_seed)\n",
    "    seeds = np.random.randint(0, 2**32 - 1, size=(len(Ns), len(deltas)))\n",
    "    experiments = [\n",
    "        [\n",
    "            generate_observations(\n",
    "                N=N, control_ctr=control_ctr,\n",
    "                var_ctr = control_ctr + delta,\n",
    "                seed=seeds[i][j] if seeds_seed is not None else None,\n",
    "                verbose=False\n",
    "            ) for j, delta in enumerate(deltas)\n",
    "        ] for i, N in enumerate(Ns)\n",
    "    ]\n",
    "    return pd.DataFrame(experiments, index=Ns, columns=deltas)"
   ]
  },
  {
   "cell_type": "markdown",
   "metadata": {},
   "source": [
    "*Finally*, generating the data:"
   ]
  },
  {
   "cell_type": "code",
   "execution_count": 13,
   "metadata": {},
   "outputs": [],
   "source": [
    "deltas = np.linspace(-0.15, 0.15, num=31)\n",
    "Ns = np.round(np.linspace(10, 10000, num=40)).astype('int64')\n",
    "\n",
    "data = generate_data(seeds_seed=262, control_ctr=0.2, \n",
    "                     deltas=deltas, Ns=Ns,\n",
    "                    )"
   ]
  },
  {
   "cell_type": "markdown",
   "metadata": {},
   "source": [
    "For each A/B test we aggregate the data:"
   ]
  },
  {
   "cell_type": "code",
   "execution_count": 14,
   "metadata": {},
   "outputs": [],
   "source": [
    "data_agg = data.applymap(agg_conversion)"
   ]
  },
  {
   "cell_type": "markdown",
   "metadata": {},
   "source": [
    "Utility function to element-wise $p$-value computation:"
   ]
  },
  {
   "cell_type": "code",
   "execution_count": 15,
   "metadata": {},
   "outputs": [],
   "source": [
    "def compute_proportions_pvals(data_agg, test):\n",
    "    \"\"\"\n",
    "    Compute the p-value of a single A/B test.\n",
    "    `test` is assumed to be from `statsmodels.stats.proportion`\n",
    "    \"\"\"\n",
    "    return data_agg.applymap(lambda x: test(x['Converted'], x['Visitors'])[1])"
   ]
  },
  {
   "cell_type": "markdown",
   "metadata": {},
   "source": [
    "#### $\\chi^2$ independence test"
   ]
  },
  {
   "cell_type": "code",
   "execution_count": 16,
   "metadata": {},
   "outputs": [
    {
     "name": "stderr",
     "output_type": "stream",
     "text": [
      "/Users/drorata/anaconda3/envs/z-vs-ch2-tests/lib/python3.6/site-packages/scipy/stats/stats.py:4554: RuntimeWarning: invalid value encountered in true_divide\n",
      "  terms = (f_obs - f_exp)**2 / f_exp\n"
     ]
    },
    {
     "data": {
      "image/png": "[encoded data removed]",
      "text/plain": [
       "<matplotlib.figure.Figure at 0x13a567978>"
      ]
     },
     "metadata": {},
     "output_type": "display_data"
    }
   ],
   "source": [
    "pvals_chi2 = compute_proportions_pvals(data_agg, proportion.proportions_chisquare)\n",
    "plot_experiment(pvals_chi2)"
   ]
  },
  {
   "cell_type": "markdown",
   "metadata": {},
   "source": [
    "### $z$ test"
   ]
  },
  {
   "cell_type": "code",
   "execution_count": 17,
   "metadata": {},
   "outputs": [
    {
     "name": "stderr",
     "output_type": "stream",
     "text": [
      "/Users/drorata/anaconda3/envs/z-vs-ch2-tests/lib/python3.6/site-packages/statsmodels/stats/weightstats.py:670: RuntimeWarning: invalid value encountered in double_scalars\n",
      "  zstat = value / std_diff\n"
     ]
    },
    {
     "data": {
      "image/png": "[encoded data removed]",
      "text/plain": [
       "<matplotlib.figure.Figure at 0x13d3b12e8>"
      ]
     },
     "metadata": {},
     "output_type": "display_data"
    }
   ],
   "source": [
    "pvals_z = compute_proportions_pvals(data_agg, proportion.proportions_ztest)\n",
    "plot_experiment(pvals_z)"
   ]
  },
  {
   "cell_type": "markdown",
   "metadata": {},
   "source": [
    "## Comparing $z$-test and $\\chi^2$ test\n",
    "\n",
    "The results of the element-wise $z$ and $\\chi^2$ tests yields an expected visualization.\n",
    "The smaller the number of samples per group $N$ is and the smaller $\\delat$ is we have $p$-values that are larger.\n",
    "But, and it is not a huge surprise, the visuals for the two different tests seems similar.\n",
    "Let us check how close are they."
   ]
  },
  {
   "cell_type": "code",
   "execution_count": 18,
   "metadata": {},
   "outputs": [],
   "source": [
    "pvals_diffs_close = pd.DataFrame(np.isclose(pvals_chi2, pvals_z))"
   ]
  },
  {
   "cell_type": "code",
   "execution_count": 19,
   "metadata": {},
   "outputs": [],
   "source": [
    "pvals_diffs = (pvals_chi2 - pvals_z).abs()"
   ]
  },
  {
   "cell_type": "code",
   "execution_count": 20,
   "metadata": {},
   "outputs": [
    {
     "data": {
      "image/png": "[encoded data removed]",
      "text/plain": [
       "<matplotlib.figure.Figure at 0x13dcae5f8>"
      ]
     },
     "metadata": {},
     "output_type": "display_data"
    }
   ],
   "source": [
    "plot_experiment(pvals_diffs)"
   ]
  },
  {
   "cell_type": "code",
   "execution_count": 21,
   "metadata": {},
   "outputs": [
    {
     "data": {
      "image/png": "[encoded data removed]",
      "text/plain": [
       "<matplotlib.figure.Figure at 0x13df4fbe0>"
      ]
     },
     "metadata": {},
     "output_type": "display_data"
    }
   ],
   "source": [
    "plot_experiment(pvals_diffs_close.applymap(lambda x: 0 if x else 1))"
   ]
  },
  {
   "cell_type": "markdown",
   "metadata": {},
   "source": [
    "So we see that except a single(!) case, all $p$-values are the same!"
   ]
  }
 ],
 "metadata": {
  "kernelspec": {
   "display_name": "Python [conda env:z-vs-ch2-tests]",
   "language": "python",
   "name": "conda-env-z-vs-ch2-tests-py"
  },
  "language_info": {
   "codemirror_mode": {
    "name": "ipython",
    "version": 3
   },
   "file_extension": ".py",
   "mimetype": "text/x-python",
   "name": "python",
   "nbconvert_exporter": "python",
   "pygments_lexer": "ipython3",
   "version": "3.6.4"
  },
  "toc": {
   "nav_menu": {},
   "number_sections": false,
   "sideBar": true,
   "skip_h1_title": false,
   "title_cell": "Table of Contents",
   "title_sidebar": "Contents",
   "toc_cell": false,
   "toc_position": {},
   "toc_section_display": true,
   "toc_window_display": false
  }
 },
 "nbformat": 4,
 "nbformat_minor": 2
}
